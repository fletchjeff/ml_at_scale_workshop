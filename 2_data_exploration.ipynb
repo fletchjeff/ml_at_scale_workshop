{
 "cells": [
  {
   "cell_type": "markdown",
   "metadata": {},
   "source": [
    "# Part 1 - Data Exploration\n",
    "For this project, the requirement is to use the flights dataset to predict if a particular flight in the future will be cancelled. This first notebook is used to explore the data.\n",
    "\n",
    "The original dataset comes from [Kaggle](https://www.kaggle.com/yuanyuwendymu/airline-delay-and-cancellation-data-2009-2018) and has a fairly good data dictionary:\n",
    "\n",
    "+ **FL_DATE** Date of the flight, yy/mm/dd\n",
    "+ **OP_CARRIER** Airline Identifier\n",
    "+ **OP_CARRIER_FL_NUM** Flight Number\n",
    "+ **ORIGIN** Starting Airport Code\n",
    "+ **DEST** Destination Airport Code\n",
    "+ **CRS_DEP_TIME** Planned Departure Time\n",
    "+ **DEP_TIME** Actual Departure Time\n",
    "+ **DEP_DELAY** Total Delay on Departure in minutes\n",
    "+ **TAXI_OUT** The time duration elapsed between departure from the origin airport gate and wheels off\n",
    "+ **WHEELS_OFF** The time point that the aircraft's wheels leave the ground\n",
    "+ **WHEELS_ON** The time point that the aircraft's wheels touch on the ground\n",
    "+ **TAXI_IN** The time duration elapsed between wheels-on and gate arrival at the destination airport\n",
    "+ **CRS_ARR_TIME** Planned arrival time\n",
    "+ **ARR_TIME** Actual Arrival Time\n",
    "+ **ARR_DELAY** Total Delay on Arrival in minutes\n",
    "+ **CANCELLED** Flight Cancelled (1 = cancelled)\n",
    "+ **CANCELLATION_CODE** Reason for Cancellation of flight:\n",
    "    A - Airline/Carrier;\n",
    "    B - Weather;\n",
    "    C - National Air System;\n",
    "    D - Security\n",
    "+ **DIVERTED** Aircraft landed on airport that out of schedule\n",
    "+ **CRS_ELAPSED_TIME** Planned time amount needed for the flight trip\n",
    "+ **ACTUAL_ELAPSED_TIME** The time duration between wheels_off and wheels_on time\n",
    "+ **AIR_TIME** Time spent in the air\n",
    "+ **DISTANCE** Distance between two airports\n",
    "+ **CARRIER_DELAY** Delay caused by the airline in minutes\n",
    "+ **WEATHER_DELAY** Delay caused by weather\n",
    "+ **NAS_DELAY** Delay caused by air system\n",
    "+ **SECURITY_DELAY** Delay caused by security\n",
    "+ **LATE_AIRCRAFT_DELAY** Delay cause by late arriving aircraft\n",
    "+ **Unnamed: 27** Useless column\n",
    "\n"
   ]
  },
  {
   "cell_type": "code",
   "execution_count": 1,
   "metadata": {
    "scrolled": false
   },
   "outputs": [],
   "source": [
    "#The various imports\n",
    "import numpy as np\n",
    "import matplotlib.pyplot as plt\n",
    "import seaborn as sns\n",
    "import os\n",
    "\n",
    "from pyspark.sql import SparkSession\n",
    "from pyspark.sql.types import *\n",
    "from pyspark.sql.functions import *"
   ]
  },
  {
   "cell_type": "markdown",
   "metadata": {},
   "source": [
    "## Create the Spark session\n",
    "Connect to spark using the standard Spark Session connector. I've put the connection parameters into each file directly they change dependingo the type of job that is running. You should adjust the following for your specific Spark environment.\n",
    "\n",
    "+ `spark.executor.memory`\n",
    "+ `spark.executor.cores`\n",
    "+ `spark.driver.memory` \n",
    "\n",
    "Spark will use the default `master` setting when connecting to the resource manager. With Cloudera CML, this will be Spark on Kubernetes. If you are working on you local machine for testing, add `.master(\"local[*]\")\\` before `.getOrCreate()`     \n",
    "\n",
    "The next on is specific to the Cloudera CML setup:\n",
    "\n",
    "`spark.yarn.access.hadoopFileSystems s3a://[s3 bucket location]`"
   ]
  },
  {
   "cell_type": "code",
   "execution_count": 2,
   "metadata": {
    "scrolled": false
   },
   "outputs": [],
   "source": [
    "storage = os.getenv(\"STORAGE\")\n",
    "\n",
    "spark = SparkSession\\\n",
    "    .builder\\\n",
    "    .appName(\"Airline Data Exploration\")\\\n",
    "    .config(\"spark.executor.memory\",\"8g\")\\\n",
    "    .config(\"spark.executor.cores\",\"4\")\\\n",
    "    .config(\"spark.driver.memory\",\"4g\")\\\n",
    "    .config(\"spark.yarn.access.hadoopFileSystems\",storage)\\\n",
    "    .getOrCreate()"
   ]
  },
  {
   "cell_type": "markdown",
   "metadata": {},
   "source": [
    "## Load the Spark UI\n",
    "This creates a link the Spark UI. Its specific to CML and needed because of an issue wit TLS that is being fixed. If you are running locally, just run `spark` as a command in a cell and it will provide you with the Spark UI link."
   ]
  },
  {
   "cell_type": "code",
   "execution_count": 3,
   "metadata": {
    "scrolled": false
   },
   "outputs": [
    {
     "data": {
      "text/html": [
       "<a href=\"http://spark-h334892zea9ifm5l.ml-c9056e76-593.se-sandb.a465-9q4k.cloudera.site\" target=\"_blank\">Spark UI</a>"
      ],
      "text/plain": [
       "<IPython.core.display.HTML object>"
      ]
     },
     "execution_count": 3,
     "metadata": {},
     "output_type": "execute_result"
    }
   ],
   "source": [
    "from IPython.core.display import HTML\n",
    "HTML('<a href=\"http://spark-{}.{}\" target=\"_blank\">Spark UI</a>'.format(os.getenv(\"CDSW_ENGINE_ID\"),os.getenv(\"CDSW_DOMAIN\")))"
   ]
  },
  {
   "cell_type": "markdown",
   "metadata": {},
   "source": [
    "## Import the data\n",
    "This file was downloaded from [Kaggle](https://www.kaggle.com/yuanyuwendymu/airline-delay-and-cancellation-data-2009-2018) as a CSV and upload to S3. Since we know the schema already, we can make its correct by defining the schema for the import rather than relying on inferSchema. Its also faster! \n",
    "\n",
    "_Note: If you are working in local mode, you should limit the number of rows that are returned._\n",
    "\n",
    "> _HANDY TIP_\n",
    "> \n",
    "> Use `.persist()` on a data frame that you are work a lot with to prevent Spark from fetching the data everytime you run query. It will store that dataframe in memory and all operations on that dataframe will run on the in-memory version."
   ]
  },
  {
   "cell_type": "code",
   "execution_count": 4,
   "metadata": {
    "scrolled": false
   },
   "outputs": [
    {
     "data": {
      "text/plain": [
       "DataFrame[FL_DATE: timestamp, OP_CARRIER: string, OP_CARRIER_FL_NUM: string, ORIGIN: string, DEST: string, CRS_DEP_TIME: string, DEP_TIME: string, DEP_DELAY: double, TAXI_OUT: double, WHEELS_OFF: string, WHEELS_ON: string, TAXI_IN: double, CRS_ARR_TIME: string, ARR_TIME: string, ARR_DELAY: double, CANCELLED: double, CANCELLATION_CODE: string, DIVERTED: double, CRS_ELAPSED_TIME: double, ACTUAL_ELAPSED_TIME: double, AIR_TIME: double, DISTANCE: double, CARRIER_DELAY: double, WEATHER_DELAY: double, NAS_DELAY: double, SECURITY_DELAY: double, LATE_AIRCRAFT_DELAY: double, WEEK: double]"
      ]
     },
     "execution_count": 4,
     "metadata": {},
     "output_type": "execute_result"
    }
   ],
   "source": [
    "# schema = StructType([StructField(\"FL_DATE\", TimestampType(), True),\n",
    "# StructField(\"OP_CARRIER\", StringType(), True),\n",
    "# StructField(\"OP_CARRIER_FL_NUM\", StringType(), True),\n",
    "# StructField(\"ORIGIN\", StringType(), True),\n",
    "# StructField(\"DEST\", StringType(), True),\n",
    "# StructField(\"CRS_DEP_TIME\", StringType(), True),\n",
    "# StructField(\"DEP_TIME\", StringType(), True),\n",
    "# StructField(\"DEP_DELAY\", DoubleType(), True),\n",
    "# StructField(\"TAXI_OUT\", DoubleType(), True),\n",
    "# StructField(\"WHEELS_OFF\", StringType(), True),\n",
    "# StructField(\"WHEELS_ON\", StringType(), True),\n",
    "# StructField(\"TAXI_IN\", DoubleType(), True),\n",
    "# StructField(\"CRS_ARR_TIME\", StringType(), True),\n",
    "# StructField(\"ARR_TIME\", StringType(), True),\n",
    "# StructField(\"ARR_DELAY\", DoubleType(), True),\n",
    "# StructField(\"CANCELLED\", DoubleType(), True),\n",
    "# StructField(\"CANCELLATION_CODE\", StringType(), True),\n",
    "# StructField(\"DIVERTED\", DoubleType(), True),\n",
    "# StructField(\"CRS_ELAPSED_TIME\", DoubleType(), True),\n",
    "# StructField(\"ACTUAL_ELAPSED_TIME\", DoubleType(), True),\n",
    "# StructField(\"AIR_TIME\", DoubleType(), True),\n",
    "# StructField(\"DISTANCE\", DoubleType(), True),\n",
    "# StructField(\"CARRIER_DELAY\", DoubleType(), True),\n",
    "# StructField(\"WEATHER_DELAY\", DoubleType(), True),\n",
    "# StructField(\"NAS_DELAY\", DoubleType(), True),\n",
    "# StructField(\"SECURITY_DELAY\", DoubleType(), True),\n",
    "# StructField(\"LATE_AIRCRAFT_DELAY\", DoubleType(), True)])\n",
    "\n",
    "\n",
    "# flight_df = spark.read.csv(\n",
    "#   path=s3_bucket + \"/data/airlines/csv/*\",header=True,\n",
    "#   schema=schema)\n",
    "\n",
    "flight_df = spark.sql(\"select * from full_flight_table\")\n",
    "\n",
    "# Uncomment this if you are running in local mode and just want to see things work\n",
    "#flight_df = flight_df.limit(10000)\n",
    "\n",
    "flight_df.persist()"
   ]
  },
  {
   "cell_type": "markdown",
   "metadata": {},
   "source": [
    "## Cancelled Flights by Carrier\n",
    "The first bit of data exploration is to check the flight cancellations by carrier. This is best done by showing which carrier has the highet percentage of cancelled flights rather than the total number of cancelled flights. \n",
    "\n",
    "Concepts introduced in this section:\n",
    "+ `filter()`,`groupby` etc.\n",
    "+ `withColumn` and `withColumnRenamed`\n",
    "+ `toPandas()`"
   ]
  },
  {
   "cell_type": "code",
   "execution_count": 5,
   "metadata": {
    "scrolled": false
   },
   "outputs": [
    {
     "data": {
      "text/html": [
       "<div>\n",
       "<style scoped>\n",
       "    .dataframe tbody tr th:only-of-type {\n",
       "        vertical-align: middle;\n",
       "    }\n",
       "\n",
       "    .dataframe tbody tr th {\n",
       "        vertical-align: top;\n",
       "    }\n",
       "\n",
       "    .dataframe thead th {\n",
       "        text-align: right;\n",
       "    }\n",
       "</style>\n",
       "<table border=\"1\" class=\"dataframe\">\n",
       "  <thead>\n",
       "    <tr style=\"text-align: right;\">\n",
       "      <th></th>\n",
       "      <th>OP_CARRIER</th>\n",
       "      <th>count_total</th>\n",
       "      <th>OP_CARRIER</th>\n",
       "      <th>count_delays</th>\n",
       "      <th>delay_percent</th>\n",
       "    </tr>\n",
       "  </thead>\n",
       "  <tbody>\n",
       "    <tr>\n",
       "      <td>0</td>\n",
       "      <td>OH</td>\n",
       "      <td>728030</td>\n",
       "      <td>OH</td>\n",
       "      <td>27731</td>\n",
       "      <td>3.809046</td>\n",
       "    </tr>\n",
       "    <tr>\n",
       "      <td>1</td>\n",
       "      <td>MQ</td>\n",
       "      <td>3651930</td>\n",
       "      <td>MQ</td>\n",
       "      <td>124388</td>\n",
       "      <td>3.406089</td>\n",
       "    </tr>\n",
       "    <tr>\n",
       "      <td>2</td>\n",
       "      <td>YX</td>\n",
       "      <td>316090</td>\n",
       "      <td>YX</td>\n",
       "      <td>10100</td>\n",
       "      <td>3.195292</td>\n",
       "    </tr>\n",
       "    <tr>\n",
       "      <td>3</td>\n",
       "      <td>EV</td>\n",
       "      <td>5025141</td>\n",
       "      <td>EV</td>\n",
       "      <td>143356</td>\n",
       "      <td>2.852776</td>\n",
       "    </tr>\n",
       "    <tr>\n",
       "      <td>4</td>\n",
       "      <td>XE</td>\n",
       "      <td>1415224</td>\n",
       "      <td>XE</td>\n",
       "      <td>32788</td>\n",
       "      <td>2.316806</td>\n",
       "    </tr>\n",
       "    <tr>\n",
       "      <td>5</td>\n",
       "      <td>9E</td>\n",
       "      <td>1328520</td>\n",
       "      <td>9E</td>\n",
       "      <td>30391</td>\n",
       "      <td>2.287583</td>\n",
       "    </tr>\n",
       "    <tr>\n",
       "      <td>6</td>\n",
       "      <td>YV</td>\n",
       "      <td>1306618</td>\n",
       "      <td>YV</td>\n",
       "      <td>27384</td>\n",
       "      <td>2.095792</td>\n",
       "    </tr>\n",
       "    <tr>\n",
       "      <td>7</td>\n",
       "      <td>NK</td>\n",
       "      <td>588574</td>\n",
       "      <td>NK</td>\n",
       "      <td>11511</td>\n",
       "      <td>1.955744</td>\n",
       "    </tr>\n",
       "    <tr>\n",
       "      <td>8</td>\n",
       "      <td>OO</td>\n",
       "      <td>6809247</td>\n",
       "      <td>OO</td>\n",
       "      <td>121868</td>\n",
       "      <td>1.789743</td>\n",
       "    </tr>\n",
       "    <tr>\n",
       "      <td>9</td>\n",
       "      <td>B6</td>\n",
       "      <td>2678078</td>\n",
       "      <td>B6</td>\n",
       "      <td>46501</td>\n",
       "      <td>1.736357</td>\n",
       "    </tr>\n",
       "  </tbody>\n",
       "</table>\n",
       "</div>"
      ],
      "text/plain": [
       "  OP_CARRIER  count_total OP_CARRIER  count_delays  delay_percent\n",
       "0         OH       728030         OH         27731       3.809046\n",
       "1         MQ      3651930         MQ        124388       3.406089\n",
       "2         YX       316090         YX         10100       3.195292\n",
       "3         EV      5025141         EV        143356       2.852776\n",
       "4         XE      1415224         XE         32788       2.316806\n",
       "5         9E      1328520         9E         30391       2.287583\n",
       "6         YV      1306618         YV         27384       2.095792\n",
       "7         NK       588574         NK         11511       1.955744\n",
       "8         OO      6809247         OO        121868       1.789743\n",
       "9         B6      2678078         B6         46501       1.736357"
      ]
     },
     "execution_count": 5,
     "metadata": {},
     "output_type": "execute_result"
    }
   ],
   "source": [
    "cancel_by_carrier = flight_df\\\n",
    "  .filter(\"CANCELLED == 1\")\\\n",
    "  .groupby(\"OP_CARRIER\")\\\n",
    "  .count()\\\n",
    "  .sort(\"count\",ascending=False)\\\n",
    "  .withColumnRenamed('count', 'count_delays')\n",
    "\n",
    "  \n",
    "flight_by_carrier = flight_df\\\n",
    "  .groupby(\"OP_CARRIER\")\\\n",
    "  .count()\\\n",
    "  .sort(\"count\",ascending=False)\\\n",
    "  .withColumnRenamed('count', 'count_total')\n",
    "\n",
    "  \n",
    "cancel_by_carrier_percent = flight_by_carrier\\\n",
    "  .join(\n",
    "    cancel_by_carrier, \n",
    "    flight_by_carrier.OP_CARRIER == cancel_by_carrier.OP_CARRIER\n",
    "  )\n",
    "  \n",
    "cancel_by_carrier_percent = cancel_by_carrier_percent\\\n",
    "  .withColumn(\n",
    "    \"delay_percent\",(\n",
    "      cancel_by_carrier_percent.count_delays/cancel_by_carrier_percent.count_total\n",
    "    )*100\n",
    "  )\\\n",
    "  .sort(\"delay_percent\",ascending=False)\\\n",
    "  .toPandas()\n",
    "\n",
    "# This limits\n",
    "cancel_by_carrier_percent.head(10)\n"
   ]
  },
  {
   "cell_type": "markdown",
   "metadata": {},
   "source": [
    "# Cancelled flights by Year\n",
    "This is not necessarily useful as a predictive metric, but it is still interesting."
   ]
  },
  {
   "cell_type": "code",
   "execution_count": 6,
   "metadata": {
    "scrolled": false
   },
   "outputs": [],
   "source": [
    "flight_by_year = flight_df\\\n",
    "  .withColumn(\"year\",year(\"FL_DATE\"))\\\n",
    "  .groupby(\"year\")\\\n",
    "  .count()\\\n",
    "  .sort(\"count\",ascending=False)\\\n",
    "  .withColumnRenamed('count', 'count_total')\n",
    "  \n",
    "cancel_by_year = flight_df\\\n",
    "  .filter(\"CANCELLED == 1\")\\\n",
    "  .withColumn(\"year_cancel\",year(\"FL_DATE\"))\\\n",
    "  .groupby(\"year_cancel\")\\\n",
    "  .count()\\\n",
    "  .sort(\"count\",ascending=False)\\\n",
    "  .withColumnRenamed('count', 'cancel_total')\n",
    "\n",
    "cancel_by_year_percent = flight_by_year\\\n",
    "  .join(\n",
    "    cancel_by_year, \n",
    "    flight_by_year.year == cancel_by_year.year_cancel\n",
    "  )  \n",
    "  \n",
    "cancel_by_year_percent = cancel_by_year_percent\\\n",
    "  .withColumn(\n",
    "    \"delay_percent\",(\n",
    "      cancel_by_year_percent.cancel_total/cancel_by_year_percent.count_total\n",
    "    )*100\n",
    "  )\\\n",
    "  .sort(\"year\",ascending=False)\n",
    "  \n",
    "cancel_by_year_percent_pd = cancel_by_year_percent.toPandas()"
   ]
  },
  {
   "cell_type": "markdown",
   "metadata": {},
   "source": [
    "Plot this using a Tufte-like layout :)"
   ]
  },
  {
   "cell_type": "code",
   "execution_count": 7,
   "metadata": {
    "scrolled": false
   },
   "outputs": [
    {
     "data": {
      "image/png": "[encoded data removed]",
      "text/plain": [
       "<Figure size 432x288 with 1 Axes>"
      ]
     },
     "metadata": {},
     "output_type": "display_data"
    }
   ],
   "source": [
    "sns.set_style(\"white\",{'axes.axisbelow': False})\n",
    "plt.bar( \n",
    "cancel_by_year_percent_pd.year, \n",
    "cancel_by_year_percent_pd.delay_percent,\n",
    "align='center', \n",
    "alpha=0.5,\n",
    "color='#888888',\n",
    ")\n",
    "plt.grid(color='#FFFFFF', linestyle='-', linewidth=0.5, axis='y')\n",
    "plt.title(\n",
    "'Percentage Cancelled Flights by Year',\n",
    "color='grey'\n",
    ")\n",
    "plt.xticks(\n",
    "cancel_by_year_percent_pd.year,\n",
    "color='grey'\n",
    ")\n",
    "plt.yticks(color='grey')\n",
    "sns.despine(left=True,bottom=True)"
   ]
  },
  {
   "cell_type": "markdown",
   "metadata": {},
   "source": [
    "## Cancelled flights per Week of Year\n",
    "This is a more intersting statistic and likely to have more predictive power. Week of Year will be a seasonal and generally the flight patterns will have busier vs less busy times of the year. This will also show the effect that seasonal weather conditions can have on flight cancellations."
   ]
  },
  {
   "cell_type": "code",
   "execution_count": 8,
   "metadata": {
    "scrolled": false
   },
   "outputs": [],
   "source": [
    "flight_by_week = flight_df\\\n",
    "  .withColumn(\"week\",weekofyear(\"FL_DATE\"))\\\n",
    "  .groupby(\"week\")\\\n",
    "  .count()\\\n",
    "  .sort(\"count\",ascending=False)\\\n",
    "  .withColumnRenamed('count', 'count_total')\n",
    "  \n",
    "cancel_by_week = flight_df\\\n",
    "  .filter(\"CANCELLED == 1\")\\\n",
    "  .withColumn(\"week_cancel\",weekofyear(\"FL_DATE\"))\\\n",
    "  .groupby(\"week_cancel\")\\\n",
    "  .count()\\\n",
    "  .sort(\"count\",ascending=False)\\\n",
    "  .withColumnRenamed('count', 'cancel_total')\n",
    "\n",
    "cancel_by_week_percent = flight_by_week\\\n",
    "  .join(\n",
    "    cancel_by_week, \n",
    "    flight_by_week.week == cancel_by_week.week_cancel\n",
    "  )  \n",
    "  \n",
    "cancel_by_week_percent = cancel_by_week_percent\\\n",
    "  .withColumn(\n",
    "    \"delay_percent\",(\n",
    "      cancel_by_week_percent.cancel_total/cancel_by_week_percent.count_total\n",
    "    )*100\n",
    "  )\\\n",
    "  .sort(\"week\",ascending=False)\n",
    "  \n",
    "cancel_by_week_percent_pd = cancel_by_week_percent.toPandas()"
   ]
  },
  {
   "cell_type": "code",
   "execution_count": 9,
   "metadata": {
    "scrolled": false
   },
   "outputs": [
    {
     "data": {
      "image/png": "[encoded data removed]",
      "text/plain": [
       "<Figure size 432x288 with 1 Axes>"
      ]
     },
     "metadata": {},
     "output_type": "display_data"
    }
   ],
   "source": [
    "def plotter():\n",
    "  sns.set_style(\"white\",{'axes.axisbelow': False})\n",
    "  plt.bar( \n",
    "    cancel_by_week_percent_pd.week, \n",
    "    cancel_by_week_percent_pd.delay_percent,\n",
    "    align='center', \n",
    "    alpha=0.5,\n",
    "    color='#888888',\n",
    "  )\n",
    "  plt.grid(color='#FFFFFF', linestyle='-', linewidth=0.5, axis='y')\n",
    "  plt.title(\n",
    "    'Percentage Cancelled Flights by Week',\n",
    "    color='grey'\n",
    "  )\n",
    "  plt.xticks(\n",
    "    color='grey'\n",
    "  )\n",
    "  plt.yticks(color='grey')\n",
    "  sns.despine(left=True,bottom=True)\n",
    "plotter()"
   ]
  },
  {
   "cell_type": "markdown",
   "metadata": {},
   "source": [
    "## Calculating Cancelled Routes\n",
    "To work out if route is likely to cancalled, the easiest way is to create a string that combines the origin and destination. However that works only in on direction, so calculate for both directions, the code below uses `hash` to create an interger that is the sum of the a of the origin and a hash of the destination. This creates a commutative process for any route.\n",
    "\n",
    "\n",
    "> HANDY TIP\n",
    "> In pyspark you can aggregate inside a `select` function (i.e. use `sum` etc) if its not after a groupby"
   ]
  },
  {
   "cell_type": "code",
   "execution_count": 10,
   "metadata": {
    "scrolled": false
   },
   "outputs": [
    {
     "data": {
      "text/html": [
       "<div>\n",
       "<style scoped>\n",
       "    .dataframe tbody tr th:only-of-type {\n",
       "        vertical-align: middle;\n",
       "    }\n",
       "\n",
       "    .dataframe tbody tr th {\n",
       "        vertical-align: top;\n",
       "    }\n",
       "\n",
       "    .dataframe thead th {\n",
       "        text-align: right;\n",
       "    }\n",
       "</style>\n",
       "<table border=\"1\" class=\"dataframe\">\n",
       "  <thead>\n",
       "    <tr style=\"text-align: right;\">\n",
       "      <th></th>\n",
       "      <th>route</th>\n",
       "      <th>count</th>\n",
       "      <th>count_all</th>\n",
       "      <th>cancelled_percent</th>\n",
       "    </tr>\n",
       "  </thead>\n",
       "  <tbody>\n",
       "    <tr>\n",
       "      <td>0</td>\n",
       "      <td>CWA&lt;&gt;CMX</td>\n",
       "      <td>1</td>\n",
       "      <td>1</td>\n",
       "      <td>100.0</td>\n",
       "    </tr>\n",
       "    <tr>\n",
       "      <td>1</td>\n",
       "      <td>DTW&lt;&gt;ILM</td>\n",
       "      <td>1</td>\n",
       "      <td>1</td>\n",
       "      <td>100.0</td>\n",
       "    </tr>\n",
       "    <tr>\n",
       "      <td>2</td>\n",
       "      <td>TYS&lt;&gt;ROA</td>\n",
       "      <td>1</td>\n",
       "      <td>1</td>\n",
       "      <td>100.0</td>\n",
       "    </tr>\n",
       "    <tr>\n",
       "      <td>3</td>\n",
       "      <td>IAD&lt;&gt;ACY</td>\n",
       "      <td>1</td>\n",
       "      <td>1</td>\n",
       "      <td>100.0</td>\n",
       "    </tr>\n",
       "    <tr>\n",
       "      <td>4</td>\n",
       "      <td>TVC&lt;&gt;IAD</td>\n",
       "      <td>1</td>\n",
       "      <td>1</td>\n",
       "      <td>100.0</td>\n",
       "    </tr>\n",
       "    <tr>\n",
       "      <td>5</td>\n",
       "      <td>EWR&lt;&gt;JFK</td>\n",
       "      <td>1</td>\n",
       "      <td>1</td>\n",
       "      <td>100.0</td>\n",
       "    </tr>\n",
       "    <tr>\n",
       "      <td>6</td>\n",
       "      <td>JAX&lt;&gt;MCO</td>\n",
       "      <td>1</td>\n",
       "      <td>1</td>\n",
       "      <td>100.0</td>\n",
       "    </tr>\n",
       "    <tr>\n",
       "      <td>7</td>\n",
       "      <td>SDF&lt;&gt;BNA</td>\n",
       "      <td>1</td>\n",
       "      <td>1</td>\n",
       "      <td>100.0</td>\n",
       "    </tr>\n",
       "    <tr>\n",
       "      <td>8</td>\n",
       "      <td>TTN&lt;&gt;SFB</td>\n",
       "      <td>2</td>\n",
       "      <td>2</td>\n",
       "      <td>100.0</td>\n",
       "    </tr>\n",
       "    <tr>\n",
       "      <td>9</td>\n",
       "      <td>LAX&lt;&gt;SNA</td>\n",
       "      <td>2</td>\n",
       "      <td>2</td>\n",
       "      <td>100.0</td>\n",
       "    </tr>\n",
       "  </tbody>\n",
       "</table>\n",
       "</div>"
      ],
      "text/plain": [
       "      route  count  count_all  cancelled_percent\n",
       "0  CWA<>CMX      1          1              100.0\n",
       "1  DTW<>ILM      1          1              100.0\n",
       "2  TYS<>ROA      1          1              100.0\n",
       "3  IAD<>ACY      1          1              100.0\n",
       "4  TVC<>IAD      1          1              100.0\n",
       "5  EWR<>JFK      1          1              100.0\n",
       "6  JAX<>MCO      1          1              100.0\n",
       "7  SDF<>BNA      1          1              100.0\n",
       "8  TTN<>SFB      2          2              100.0\n",
       "9  LAX<>SNA      2          2              100.0"
      ]
     },
     "execution_count": 10,
     "metadata": {},
     "output_type": "execute_result"
    }
   ],
   "source": [
    "all_routes = flight_df\\\n",
    "  .withColumn(\"combo_hash\", hash(\"ORIGIN\")+hash(\"DEST\"))\\\n",
    "  .withColumn(\"combo\", concat(col(\"ORIGIN\"),col(\"DEST\")))\\\n",
    "  .groupby(\"combo_hash\")\\\n",
    "  .agg(count(\"combo_hash\").alias(\"count_all\"),first(\"combo\").alias(\"route_alias_all\"))\\\n",
    "  .sort(\"count_all\",ascending=False)\n",
    "\n",
    "cancelled_routes_all = flight_df\\\n",
    "  .filter(\"CANCELLED == 1\")\\\n",
    "  .withColumn(\"combo_hash\", hash(\"ORIGIN\")+hash(\"DEST\"))\\\n",
    "  .withColumn(\"combo\", concat(col(\"ORIGIN\"),col(\"DEST\")))\\\n",
    "  .groupby(\"combo_hash\")\\\n",
    "  .agg(count(\"combo_hash\").alias(\"count\"),first(\"combo\").alias(\"route_alias\"))\\\n",
    "  .sort(\"count\",ascending=False)  \n",
    "\n",
    "cancelled_routes_percentage = cancelled_routes_all\\\n",
    "  .join(\n",
    "    all_routes,\n",
    "    cancelled_routes_all.combo_hash == all_routes.combo_hash\n",
    "  )\\\n",
    "  .withColumn(\n",
    "    \"route\", \n",
    "    concat(\n",
    "      substring(col(\"route_alias\"),0,3),\n",
    "      lit(\"<>\"),\n",
    "      substring(col(\"route_alias\"),4,6)\n",
    "    )\n",
    "  )\\\n",
    "  .withColumn(\n",
    "    \"cancelled_percent\", \n",
    "    col(\"count\")/col(\"count_all\")*100\n",
    "  )\\\n",
    "  .select(\"route\",\"count\",\"count_all\",\"cancelled_percent\")\\\n",
    "  .sort(\"cancelled_percent\",ascending=False)\n",
    "\n",
    "cancelled_routes_percentage.toPandas().head(10)"
   ]
  },
  {
   "cell_type": "markdown",
   "metadata": {},
   "source": [
    "### Side Note\n",
    "Interestingly most popular routes have similar numbers of cancelled flights in either direction."
   ]
  },
  {
   "cell_type": "code",
   "execution_count": 11,
   "metadata": {},
   "outputs": [
    {
     "data": {
      "text/html": [
       "<div>\n",
       "<style scoped>\n",
       "    .dataframe tbody tr th:only-of-type {\n",
       "        vertical-align: middle;\n",
       "    }\n",
       "\n",
       "    .dataframe tbody tr th {\n",
       "        vertical-align: top;\n",
       "    }\n",
       "\n",
       "    .dataframe thead th {\n",
       "        text-align: right;\n",
       "    }\n",
       "</style>\n",
       "<table border=\"1\" class=\"dataframe\">\n",
       "  <thead>\n",
       "    <tr style=\"text-align: right;\">\n",
       "      <th></th>\n",
       "      <th>combo</th>\n",
       "      <th>count</th>\n",
       "    </tr>\n",
       "  </thead>\n",
       "  <tbody>\n",
       "    <tr>\n",
       "      <td>0</td>\n",
       "      <td>BOSLGA</td>\n",
       "      <td>5723</td>\n",
       "    </tr>\n",
       "    <tr>\n",
       "      <td>1</td>\n",
       "      <td>LGABOS</td>\n",
       "      <td>5658</td>\n",
       "    </tr>\n",
       "    <tr>\n",
       "      <td>2</td>\n",
       "      <td>LGAORD</td>\n",
       "      <td>5013</td>\n",
       "    </tr>\n",
       "    <tr>\n",
       "      <td>3</td>\n",
       "      <td>ORDLGA</td>\n",
       "      <td>4822</td>\n",
       "    </tr>\n",
       "    <tr>\n",
       "      <td>4</td>\n",
       "      <td>LAXSFO</td>\n",
       "      <td>4188</td>\n",
       "    </tr>\n",
       "    <tr>\n",
       "      <td>5</td>\n",
       "      <td>SFOLAX</td>\n",
       "      <td>4093</td>\n",
       "    </tr>\n",
       "    <tr>\n",
       "      <td>6</td>\n",
       "      <td>HOUDAL</td>\n",
       "      <td>3611</td>\n",
       "    </tr>\n",
       "    <tr>\n",
       "      <td>7</td>\n",
       "      <td>DALHOU</td>\n",
       "      <td>3465</td>\n",
       "    </tr>\n",
       "    <tr>\n",
       "      <td>8</td>\n",
       "      <td>DCALGA</td>\n",
       "      <td>3164</td>\n",
       "    </tr>\n",
       "    <tr>\n",
       "      <td>9</td>\n",
       "      <td>LGADCA</td>\n",
       "      <td>3154</td>\n",
       "    </tr>\n",
       "  </tbody>\n",
       "</table>\n",
       "</div>"
      ],
      "text/plain": [
       "    combo  count\n",
       "0  BOSLGA   5723\n",
       "1  LGABOS   5658\n",
       "2  LGAORD   5013\n",
       "3  ORDLGA   4822\n",
       "4  LAXSFO   4188\n",
       "5  SFOLAX   4093\n",
       "6  HOUDAL   3611\n",
       "7  DALHOU   3465\n",
       "8  DCALGA   3164\n",
       "9  LGADCA   3154"
      ]
     },
     "execution_count": 11,
     "metadata": {},
     "output_type": "execute_result"
    }
   ],
   "source": [
    "cancelled_by_route_non_combo = flight_df\\\n",
    "  .filter(\"CANCELLED == 1\")\\\n",
    "  .withColumn(\"combo\", concat(col(\"ORIGIN\"),col(\"DEST\")))\\\n",
    "  .groupby(\"combo\")\\\n",
    "  .count()\\\n",
    "  .sort(\"count\",ascending=False)\n",
    "\n",
    "cancelled_by_route_non_combo.toPandas().head(10)"
   ]
  },
  {
   "cell_type": "markdown",
   "metadata": {},
   "source": [
    "## Find Unused Columns\n",
    "Given that our aim is to calculate a prediction for the CANCELLED variable, many of the other columns are no longer relevant. You don't have an actual wheels down time for a cancelled flight. The code below lists the colums that have lots of NA values on cancelled flights."
   ]
  },
  {
   "cell_type": "code",
   "execution_count": 12,
   "metadata": {},
   "outputs": [
    {
     "data": {
      "text/plain": [
       "array(['DEP_TIME', 'DEP_DELAY', 'TAXI_OUT', 'WHEELS_OFF', 'WHEELS_ON',\n",
       "       'TAXI_IN', 'ARR_TIME', 'ARR_DELAY', 'CRS_ELAPSED_TIME',\n",
       "       'ACTUAL_ELAPSED_TIME', 'AIR_TIME', 'CARRIER_DELAY',\n",
       "       'WEATHER_DELAY', 'NAS_DELAY', 'SECURITY_DELAY',\n",
       "       'LATE_AIRCRAFT_DELAY'], dtype=object)"
      ]
     },
     "execution_count": 12,
     "metadata": {},
     "output_type": "execute_result"
    }
   ],
   "source": [
    "unused_columns = flight_df\\\n",
    "  .filter(\"CANCELLED == 1\")\\\n",
    "  .agg(*(sum(isnull(c).cast('int')).alias(c) for c in flight_df.columns))\n",
    "\n",
    "unused_columns_df = unused_columns.toPandas()\n",
    "unused_columns_df_t = unused_columns_df.transpose()\n",
    "unused_columns_df_t.rename( columns={0 :'count'}, inplace=True )\n",
    "unused_columns_df_t.query('count>0').index.values"
   ]
  },
  {
   "cell_type": "code",
   "execution_count": null,
   "metadata": {},
   "outputs": [],
   "source": []
  }
 ],
 "metadata": {
  "file_extension": ".py",
  "kernelspec": {
   "display_name": "Python 3",
   "language": "python",
   "name": "python3"
  },
  "language_info": {
   "codemirror_mode": {
    "name": "ipython",
    "version": 3
   },
   "file_extension": ".py",
   "mimetype": "text/x-python",
   "name": "python",
   "nbconvert_exporter": "python",
   "pygments_lexer": "ipython3",
   "version": "3.6.10"
  },
  "mimetype": "text/x-python",
  "name": "python",
  "npconvert_exporter": "python",
  "pygments_lexer": "ipython3",
  "version": 3
 },
 "nbformat": 4,
 "nbformat_minor": 2
}
